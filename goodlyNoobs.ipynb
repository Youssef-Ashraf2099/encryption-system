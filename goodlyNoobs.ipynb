{
 "cells": [
  {
   "cell_type": "markdown",
   "metadata": {
    "id": "20MZOwCVQ78k"
   },
   "source": [
    "# Starter Notebook: DES Encryption with CBC Mode"
   ]
  },
  {
   "cell_type": "code",
   "execution_count": 3,
   "metadata": {
    "ExecuteTime": {
     "end_time": "2025-03-12T16:22:55.444740Z",
     "start_time": "2025-03-12T16:22:55.434329Z"
    },
    "id": "MSBcROavQzZD"
   },
   "outputs": [],
   "source": [
    "\n",
    "# Starter Notebook: DES Encryption with CBC Mode\n",
    "# Group Members: [Add your names and IDs here]\n",
    "\n",
    "# DES Tables\n",
    "IP = [58, 50, 42, 34, 26, 18, 10, 2, 60, 52, 44, 36, 28, 20, 12, 4,\n",
    "      62, 54, 46, 38, 30, 22, 14, 6, 64, 56, 48, 40, 32, 24, 16, 8,\n",
    "      57, 49, 41, 33, 25, 17, 9, 1, 59, 51, 43, 35, 27, 19, 11, 3,\n",
    "      61, 53, 45, 37, 29, 21, 13, 5, 63, 55, 47, 39, 31, 23, 15, 7]\n",
    "\n",
    "FP = [40, 8, 48, 16, 56, 24, 64, 32, 39, 7, 47, 15, 55, 23, 63, 31,\n",
    "      38, 6, 46, 14, 54, 22, 62, 30, 37, 5, 45, 13, 53, 21, 61, 29,\n",
    "      36, 4, 44, 12, 52, 20, 60, 28, 35, 3, 43, 11, 51, 19, 59, 27,\n",
    "      34, 2, 42, 10, 50, 18, 58, 26, 33, 1, 41, 9, 49, 17, 57, 25]\n",
    "\n",
    "E = [32, 1, 2, 3, 4, 5, 4, 5, 6, 7, 8, 9, 8, 9, 10, 11, 12, 13, 12, 13, 14, 15, 16, 17,\n",
    "     16, 17, 18, 19, 20, 21, 20, 21, 22, 23, 24, 25, 24, 25, 26, 27, 28, 29, 28, 29, 30, 31, 32, 1]\n",
    "\n",
    "P = [16, 7, 20, 21, 29, 12, 28, 17, 1, 15, 23, 26, 5, 18, 31, 10,\n",
    "     2, 8, 24, 14, 32, 27, 3, 9, 19, 13, 30, 6, 22, 11, 4, 25]\n",
    "\n",
    "S_BOXES = [\n",
    "    [[14, 4, 13, 1, 2, 15, 11, 8, 3, 10, 6, 12, 5, 9, 0, 7],\n",
    "     [0, 15, 7, 4, 14, 2, 13, 1, 10, 6, 12, 11, 9, 5, 3, 8],\n",
    "     [4, 1, 14, 8, 13, 6, 2, 11, 15, 12, 9, 7, 3, 10, 5, 0],\n",
    "     [15, 12, 8, 2, 4, 9, 1, 7, 5, 11, 3, 14, 10, 0, 6, 13]],\n",
    "\n",
    "    [[15, 1, 8, 14, 6, 11, 3, 4, 9, 7, 2, 13, 12, 0, 5, 10],\n",
    "     [3, 13, 4, 7, 15, 2, 8, 14, 12, 0, 1, 10, 6, 9, 11, 5],\n",
    "     [0, 14, 7, 11, 10, 4, 13, 1, 5, 8, 12, 6, 9, 3, 2, 15],\n",
    "     [13, 8, 10, 1, 3, 15, 4, 2, 11, 6, 7, 12, 0, 5, 14, 9]],\n",
    "\n",
    "    [[10, 0, 9, 14, 6, 3, 15, 5, 1, 13, 12, 7, 11, 4, 2, 8],\n",
    "     [13, 7, 0, 9, 3, 4, 6, 10, 2, 8, 5, 14, 12, 11, 15, 1],\n",
    "     [13, 6, 4, 9, 8, 15, 3, 0, 11, 1, 2, 12, 5, 10, 14, 7],\n",
    "     [1, 10, 13, 0, 6, 9, 8, 7, 4, 15, 14, 3, 11, 5, 2, 12]],\n",
    "\n",
    "    [[7, 13, 14, 3, 0, 6, 9, 10, 1, 2, 8, 5, 11, 12, 4, 15],\n",
    "     [13, 8, 11, 5, 6, 15, 0, 3, 4, 7, 2, 12, 1, 10, 14, 9],\n",
    "     [10, 6, 9, 0, 12, 11, 7, 13, 15, 1, 3, 14, 5, 2, 8, 4],\n",
    "     [3, 15, 0, 6, 10, 1, 13, 8, 9, 4, 5, 11, 12, 7, 2, 14]],\n",
    "\n",
    "    [[2, 12, 4, 1, 7, 10, 11, 6, 8, 5, 3, 15, 13, 0, 14, 9],\n",
    "     [14, 11, 2, 12, 4, 7, 13, 1, 5, 0, 15, 10, 3, 9, 8, 6],\n",
    "     [4, 2, 1, 11, 10, 13, 7, 8, 15, 9, 12, 5, 6, 3, 0, 14],\n",
    "     [11, 8, 12, 7, 1, 14, 2, 13, 6, 15, 0, 9, 10, 4, 5, 3]],\n",
    "\n",
    "    [[12, 1, 10, 15, 9, 2, 6, 8, 0, 13, 3, 4, 14, 7, 5, 11],\n",
    "     [10, 15, 4, 2, 7, 12, 9, 5, 6, 1, 13, 14, 0, 11, 3, 8],\n",
    "     [9, 14, 15, 5, 2, 8, 12, 3, 7, 0, 4, 10, 1, 13, 11, 6],\n",
    "     [4, 3, 2, 12, 9, 5, 15, 10, 11, 14, 1, 7, 6, 0, 8, 13]],\n",
    "\n",
    "    [[4, 11, 2, 14, 15, 0, 8, 13, 3, 12, 9, 7, 5, 10, 6, 1],\n",
    "     [13, 0, 11, 7, 4, 9, 1, 10, 14, 3, 5, 12, 2, 15, 8, 6],\n",
    "     [1, 4, 11, 13, 12, 3, 7, 14, 10, 15, 6, 8, 0, 5, 9, 2],\n",
    "     [6, 11, 13, 8, 1, 4, 10, 7, 9, 5, 0, 15, 14, 2, 3, 12]],\n",
    "\n",
    "    [[13, 2, 8, 4, 6, 15, 11, 1, 10, 9, 3, 14, 5, 0, 12, 7],\n",
    "     [1, 15, 13, 8, 10, 3, 7, 4, 12, 5, 6, 11, 0, 14, 9, 2],\n",
    "     [7, 11, 4, 1, 9, 12, 14, 2, 0, 6, 10, 13, 15, 3, 5, 8],\n",
    "     [2, 1, 14, 7, 4, 10, 8, 13, 15, 12, 9, 0, 3, 5, 6, 11]]\n",
    "]\n",
    "\n",
    "\n",
    "# 16 round keys (48 bits each)\n",
    "round_keys = [\"010101010101010101010101010101010101010101010101\" for _ in range(16)]"
   ]
  },
  {
   "cell_type": "code",
   "execution_count": 5,
   "metadata": {
    "ExecuteTime": {
     "end_time": "2025-03-12T16:22:55.462681Z",
     "start_time": "2025-03-12T16:22:55.457256Z"
    }
   },
   "outputs": [],
   "source": [
    "# method that order bits in the inital permutation\n",
    "\n",
    "round_num = 0\n",
    "def initial_permutation(plain_text):\n",
    "    permuted_text = [0] * 64\n",
    "    for i in range(64):\n",
    "        permuted_text[i] = plain_text[IP[i]-1]\n",
    "    return permuted_text\n",
    "\n",
    "\n",
    "def expand(arr):\n",
    "    expanded_arr = [0]*48\n",
    "    for i in range(48):\n",
    "        expanded_arr[i] =  arr[E[i]-1]\n",
    "        \n",
    "    return expanded_arr\n",
    "\n",
    "# used for testing\n",
    "plain_text = [\n",
    "    0,0,0,0,0,0,0,1,0,0,1,0,0,0,1,1,0,1,0,0,0,1,0,1,0,1,1,0,0,1,1,1,1,0,0,0,1,0,0,1,1,0,1,0,1,0,1,1,1,1,0,0,1,1,0,1,1,1,1,0,1,1,1,1\n",
    "]\n",
    "def split_text(permuted_text):\n",
    "    left = [0]*32\n",
    "    right = [0] * 32\n",
    "    for i in range(32):\n",
    "        left[i] = permuted_text[i]\n",
    "        right[i] = permuted_text[i + 32]\n",
    "    return left, right\n",
    "#firstly permutate the text\n",
    "\n",
    "\n",
    "# thirdly perform expansion on the right half\n",
    "\n",
    "#fourthly perform xor with the round key\n",
    "def xor_with_key(expanded_right, round_num,xor_result):\n",
    "    roundKeyArr = [0]*48\n",
    "    for i in range(48):\n",
    "        roundKeyArr[i] = int(round_keys[round_num][i])\n",
    "\n",
    "    for i in range(48):\n",
    "        xor_result[i] = expanded_right[i]^roundKeyArr[i]\n",
    "\n",
    "#test the result\n",
    "\n",
    "\n",
    "\n",
    "#print(left)\n",
    "#print(right)\n",
    "\n",
    "# method that order bits in the final permutation\n",
    "# def final_permutation(plain_text):\n",
    "#     return ''.join([plain_text[i - 1] for i in FP])\n",
    "\n",
    "# # method that expands the 32 bits input to 48 bits to be compatable with the key in each round\n",
    "# def expansion(block):\n",
    "#     return ''.join([block[i - 1] for i in E])\n",
    "\n",
    "# #method that applies permutation in each round\n",
    "# def permutation(block):\n",
    "#     return ''.join([block[i - 1] for i in P])\n",
    "\n",
    "# #method for s-box substitution\n",
    "# def s_box(block):\n",
    "#     output=\"\"\n",
    "#     for i in range(8):\n",
    "#         row= //first row in first array inside 2d array bec they are 3d array\n",
    "#         col= //first col in first array inside 2d array\n"
   ]
  },
  {
   "cell_type": "code",
   "execution_count": 6,
   "metadata": {
    "ExecuteTime": {
     "end_time": "2025-03-12T16:22:55.474759Z",
     "start_time": "2025-03-12T16:22:55.470618Z"
    }
   },
   "outputs": [],
   "source": [
    "def S_BOXES_SUBSTITUTION(xor_result):\n",
    "    decimal_list = []\n",
    "    S_BOXES_Result = []\n",
    "    i = 0\n",
    "    while i < 8:\n",
    "        six_numbers = xor_result[i*6:(i+1)*6]\n",
    "        #print(f\"Six numbers no.{i+1}: {six_numbers}\")\n",
    "        row = int(str(six_numbers[0]) + str(six_numbers[-1]), 2)\n",
    "        col = int(''.join(map(str, six_numbers[1:5])), 2)\n",
    "        decimal = S_BOXES[i][row][col]\n",
    "        decimal_list.append(decimal)\n",
    "        binary = bin(decimal)[2:].zfill(4)\n",
    "        S_BOXES_Result.append(binary)\n",
    "        #print(f\"Decimal no.{i+1}:{decimal_list}\")\n",
    "        #print(f\"S_box{i+1}:{S_BOXES_Result}\")\n",
    "        i += 1\n",
    "    return ''.join(S_BOXES_Result)\n",
    "\n",
    "#S_BOXES_SUBSTITUTION is done by pedro (:\n"
   ]
  },
  {
   "cell_type": "code",
   "execution_count": 7,
   "metadata": {
    "ExecuteTime": {
     "end_time": "2025-03-12T16:22:55.485553Z",
     "start_time": "2025-03-12T16:22:55.482553Z"
    }
   },
   "outputs": [],
   "source": [
    "# Call the S_BOXES_SUBSTITUTION function and print the result\n",
    "#S_BOXES_Result = S_BOXES_SUBSTITUTION(xor_result)\n",
    "#print(\"S-BOX Result:\", S_BOXES_Result)"
   ]
  },
  {
   "cell_type": "code",
   "execution_count": 8,
   "metadata": {
    "ExecuteTime": {
     "end_time": "2025-03-12T16:22:55.495142Z",
     "start_time": "2025-03-12T16:22:55.492318Z"
    }
   },
   "outputs": [],
   "source": [
    "def permute(input_bits):\n",
    "    permuted_bits = [0] * len(P)\n",
    "    for i in range(len(P)):\n",
    "        permuted_bits[i] = input_bits[P[i] - 1]\n",
    "    return permuted_bits\n",
    "\n",
    "#permuted_bits = permute(S_BOXES_Result)\n",
    "#print(\"Permuted Bits:\", permuted_bits)\n",
    "\n",
    "#print(left)\n",
    "#Permution is done by pedro (:\n",
    "def final_permutation(input_bits):\n",
    "    permuted_bits = [0] * len(FP)\n",
    "    for i in range(len(FP)):\n",
    "        permuted_bits[i] = input_bits[FP[i] - 1]\n",
    "    return permuted_bits\n",
    "#Final Permution is done by pedro (:\n"
   ]
  },
  {
   "cell_type": "code",
   "execution_count": 9,
   "metadata": {
    "ExecuteTime": {
     "end_time": "2025-03-12T16:22:55.505505Z",
     "start_time": "2025-03-12T16:22:55.501696Z"
    }
   },
   "outputs": [],
   "source": [
    "# Convert permuted_bits to integers\n",
    "#permuted_bits_int = [int(bit) for bit in permuted_bits]\n",
    "\n",
    "# Perform XOR operation\n",
    "def xor(left, right):\n",
    "    xor_result = [0] * len(left)\n",
    "    for i in range(len(left)):\n",
    "        xor_result[i] = left[i] ^ right[i]\n",
    "    return xor_result\n",
    "\n",
    "#print(left)\n",
    "#print(\"Permuted Bits Int:\", permuted_bits_int)\n",
    "#R = xor(left, permuted_bits_int)\n",
    "#print(\"XOR Result to Next Round:\", R)\n",
    "\n",
    "# left XOR Permutation result and stored in right which in next round is done by pedro (:\n"
   ]
  },
  {
   "cell_type": "code",
   "execution_count": 8,
   "metadata": {
    "ExecuteTime": {
     "end_time": "2025-03-12T16:22:55.514999Z",
     "start_time": "2025-03-12T16:22:55.512619Z"
    }
   },
   "outputs": [],
   "source": [
    "#print(\"old left\",left)\n",
    "#print(\"old right\",right)\n"
   ]
  },
  {
   "cell_type": "code",
   "execution_count": 9,
   "metadata": {
    "ExecuteTime": {
     "end_time": "2025-03-12T16:22:55.527401Z",
     "start_time": "2025-03-12T16:22:55.523942Z"
    }
   },
   "outputs": [],
   "source": [
    "#left=right\n",
    "#right=R\n",
    "#print(\"new left\",left)\n",
    "#print(\"new right\",right)\n",
    "\n",
    "#make the right half and the left half for the next round by pedro (:\n",
    "\n"
   ]
  },
  {
   "cell_type": "code",
   "execution_count": 10,
   "metadata": {
    "ExecuteTime": {
     "end_time": "2025-03-12T16:22:55.549579Z",
     "start_time": "2025-03-12T16:22:55.543992Z"
    }
   },
   "outputs": [],
   "source": [
    "def DES(plain_text):\n",
    "    permuted_text = initial_permutation(plain_text)\n",
    "    print(f\"intial permuted_text: {permuted_text}\")\n",
    "    left, right = split_text(permuted_text)\n",
    "    print(f\"splitted right: {right}\")\n",
    "    print(f\"splitted left: {left}\")\n",
    "    for i in range(16):\n",
    "        # Expansion\n",
    "        expanded_right = expand(right)\n",
    "        # Convert round key to integers\n",
    "        round_key_int = [int(bit) for bit in round_keys[i]]\n",
    "        # XOR with round key\n",
    "        xor_result = xor(expanded_right, round_key_int)\n",
    "        # S-Boxes substitution\n",
    "        s_boxes_result = S_BOXES_SUBSTITUTION(xor_result)\n",
    "        # Permutation\n",
    "        permuted_bits = permute([int(bit) for bit in s_boxes_result])\n",
    "\n",
    "        # XOR with left\n",
    "        R = xor(left, permuted_bits)\n",
    "        # Swap left and right\n",
    "        left = right\n",
    "        right = R\n",
    "        # Print the result\n",
    "        print(f\"Round {i+1}:\", left + right)\n",
    "\n",
    "    BITS_Result = left + right\n",
    "    FinalP = final_permutation(BITS_Result)\n",
    "    print(\"Final Result:\", FinalP)\n",
    "    return FinalP\n",
    "#Handle DES is done by pedro (:"
   ]
  },
  {
   "cell_type": "code",
   "execution_count": 12,
   "metadata": {
    "ExecuteTime": {
     "end_time": "2025-03-12T16:22:55.557899Z",
     "start_time": "2025-03-12T16:22:55.554503Z"
    }
   },
   "outputs": [
    {
     "name": "stdout",
     "output_type": "stream",
     "text": [
      "Initial Vector: [1, 1, 0, 0, 1, 1, 1, 0, 1, 0, 0, 0, 1, 1, 0, 0, 1, 1, 0, 0, 1, 1, 0, 1, 0, 1, 1, 1, 1, 1, 0, 0, 1, 1, 0, 1, 1, 1, 0, 1, 0, 0, 1, 0, 0, 0, 1, 1, 1, 0, 1, 1, 0, 0, 0, 0, 1, 0, 1, 0, 1, 1, 1, 0]\n"
     ]
    }
   ],
   "source": [
    "import random\n",
    "\n",
    "def generate_initial_vector(length):\n",
    "    return [random.randint(0, 1) for _ in range(length)]\n",
    "\n",
    "# Example usage\n",
    "plaintext_length = 64  # Assuming the plaintext binary length is 64 bits\n",
    "initial_vector = generate_initial_vector(plaintext_length)\n",
    "print(\"Initial Vector:\", initial_vector)\n",
    "#generate_initial_vector is done by pedro (:"
   ]
  },
  {
   "cell_type": "code",
   "execution_count": 13,
   "metadata": {
    "ExecuteTime": {
     "end_time": "2025-03-12T16:22:55.575062Z",
     "start_time": "2025-03-12T16:22:55.572217Z"
    }
   },
   "outputs": [],
   "source": [
    "def xor_CBC(plaintext_length,initial_vector):\n",
    "  xor_result_CBC = [0] * len(plaintext_length)\n",
    "  for i in range(len(plaintext_length)):\n",
    "   xor_result_CBC[i] = plaintext_length[i] ^ initial_vector[i]\n",
    "  return xor_result_CBC\n",
    "#xor_CBC is done by pedro (:\n"
   ]
  },
  {
   "cell_type": "code",
   "execution_count": 14,
   "metadata": {
    "ExecuteTime": {
     "end_time": "2025-03-12T16:22:55.598010Z",
     "start_time": "2025-03-12T16:22:55.591760Z"
    }
   },
   "outputs": [],
   "source": [
    "def string_to_hex(plain_text):\n",
    "    return ''.join(format(ord(char), '02x') for char in plain_text)\n",
    "\n",
    "def hex_to_decimal(hex_str):\n",
    "    return int(hex_str, 16)\n",
    "\n",
    "def decimal_to_binary(decimal):\n",
    "    return [int(bit) for bit in format(decimal, 'b').zfill(64)]\n",
    "\n",
    "def binary_to_decimal(binary_data):\n",
    "    binary_str = ''.join(str(bit) for bit in binary_data)\n",
    "    return int(binary_str, 2)\n",
    "\n",
    "def decimal_to_hex(decimal):\n",
    "    return format(decimal, 'x')\n",
    "\n",
    "\n",
    "def pad_plaintext(plaintext, block_size):\n",
    "    padding_length = block_size - (len(plaintext) % block_size)\n",
    "    if padding_length != block_size:\n",
    "        plaintext.extend([0] * padding_length)\n",
    "    return plaintext\n",
    "def hex_to_letter_string(hex_str):\n",
    "    letter_string = ''\n",
    "    for i in range(0, len(hex_str), 2):\n",
    "        ascii_value = int(hex_str[i:i+2], 16)\n",
    "        # Map the ASCII value to a letter (A-Z, a-z)\n",
    "        if 65 <= ascii_value <= 90:  # A-Z\n",
    "            letter_string += chr(ascii_value)\n",
    "        elif 97 <= ascii_value <= 122:  # a-z\n",
    "            letter_string += chr(ascii_value)\n",
    "        else:\n",
    "            # Map other values to a letter in the range A-Z\n",
    "            letter_string += chr((ascii_value % 26) + 65)\n",
    "    return letter_string\n",
    "\n",
    "\n",
    "def CBC(plain_text):\n",
    "    hex_str = string_to_hex(plain_text)\n",
    "\n",
    "    decimal_value = hex_to_decimal(hex_str)\n",
    "\n",
    "    binary_data = decimal_to_binary(decimal_value)\n",
    "\n",
    "    block_size = 64\n",
    "    binary_data = pad_plaintext(binary_data, block_size * 3)\n",
    "    block1 = binary_data[:64]\n",
    "    block2 = binary_data[64:128]\n",
    "    block3 = binary_data[128:192]\n",
    "    print(\"////////////////////////////////////////////////////////////////////////////\")\n",
    "    print(\"---------------------->Block 1 executing:\")\n",
    "    IV = generate_initial_vector(64)\n",
    "    print(\"Initial Vector:\", IV)\n",
    "    XOR_Result_IV = xor_CBC(block1, IV)\n",
    "    C0 = DES(XOR_Result_IV)\n",
    "    print(\"Ciphertext Block 0:\", C0)\n",
    "    print(\"////////////////////////////////////////////////////////////////////////////\")\n",
    "\n",
    "    print(\"////////////////////////////////////////////////////////////////////////////\")\n",
    "    print(\"---------------------->Block 2 executing:\")\n",
    "    XOR_Result_C0 = xor_CBC(block2, C0)\n",
    "    C1 = DES(XOR_Result_C0)\n",
    "    print(\"Ciphertext Block 1:\", C1)\n",
    "    print(\"////////////////////////////////////////////////////////////////////////////\")\n",
    "\n",
    "    print(\"////////////////////////////////////////////////////////////////////////////\")\n",
    "    print(\"---------------------->Block 3 executing:\")\n",
    "    XOR_Result_C1 = xor_CBC(block3, C1)\n",
    "    C2 = DES(XOR_Result_C1)\n",
    "    print(\"Ciphertext Block 2:\", C2)\n",
    "    print(\"////////////////////////////////////////////////////////////////////////////\")\n",
    "\n",
    "    # Concatenate all ciphertext blocks\n",
    "    final_ciphertext = C0 + C1 + C2\n",
    "    print(\"Final Ciphertext:\", final_ciphertext)\n",
    "\n",
    "    decimal_ciphertext = binary_to_decimal(final_ciphertext)\n",
    "\n",
    "    hex_ciphertext = decimal_to_hex(decimal_ciphertext)\n",
    "\n",
    "    encrypted_string = hex_to_letter_string(hex_ciphertext)\n",
    "\n",
    "    return encrypted_string\n"
   ]
  },
  {
   "cell_type": "code",
   "execution_count": 15,
   "metadata": {
    "ExecuteTime": {
     "end_time": "2025-03-12T16:22:55.613892Z",
     "start_time": "2025-03-12T16:22:55.607737Z"
    }
   },
   "outputs": [
    {
     "name": "stdout",
     "output_type": "stream",
     "text": [
      "////////////////////////////////////////////////////////////////////////////\n",
      "---------------------->Block 1 executing:\n",
      "Initial Vector: [1, 0, 1, 1, 1, 1, 0, 1, 1, 0, 1, 1, 0, 1, 0, 0, 0, 1, 0, 0, 0, 0, 1, 0, 1, 0, 1, 0, 1, 0, 0, 1, 1, 1, 1, 1, 0, 1, 0, 1, 1, 0, 0, 1, 0, 0, 0, 1, 0, 0, 0, 1, 1, 1, 0, 0, 1, 1, 1, 1, 0, 0, 0, 1]\n",
      "intial permuted_text: [0, 1, 1, 0, 1, 0, 1, 1, 0, 0, 1, 1, 1, 0, 0, 0, 0, 0, 1, 0, 0, 0, 0, 0, 1, 0, 1, 1, 1, 0, 0, 1, 0, 1, 0, 0, 0, 1, 0, 0, 1, 0, 0, 0, 1, 0, 1, 1, 0, 0, 1, 0, 1, 1, 1, 1, 1, 1, 1, 1, 1, 0, 1, 0]\n",
      "splitted right: [0, 1, 0, 0, 0, 1, 0, 0, 1, 0, 0, 0, 1, 0, 1, 1, 0, 0, 1, 0, 1, 1, 1, 1, 1, 1, 1, 1, 1, 0, 1, 0]\n",
      "splitted left: [0, 1, 1, 0, 1, 0, 1, 1, 0, 0, 1, 1, 1, 0, 0, 0, 0, 0, 1, 0, 0, 0, 0, 0, 1, 0, 1, 1, 1, 0, 0, 1]\n",
      "Round 1: [0, 1, 0, 0, 0, 1, 0, 0, 1, 0, 0, 0, 1, 0, 1, 1, 0, 0, 1, 0, 1, 1, 1, 1, 1, 1, 1, 1, 1, 0, 1, 0, 0, 1, 0, 0, 1, 1, 0, 0, 0, 0, 0, 1, 1, 1, 1, 0, 0, 1, 1, 0, 0, 1, 1, 1, 0, 1, 1, 0, 1, 0, 1, 1]\n",
      "Round 2: [0, 1, 0, 0, 1, 1, 0, 0, 0, 0, 0, 1, 1, 1, 1, 0, 0, 1, 1, 0, 0, 1, 1, 1, 0, 1, 1, 0, 1, 0, 1, 1, 0, 1, 1, 1, 1, 0, 0, 0, 1, 1, 1, 0, 0, 0, 0, 0, 1, 0, 0, 0, 0, 1, 1, 1, 0, 0, 0, 1, 1, 1, 0, 0]\n",
      "Round 3: [0, 1, 1, 1, 1, 0, 0, 0, 1, 1, 1, 0, 0, 0, 0, 0, 1, 0, 0, 0, 0, 1, 1, 1, 0, 0, 0, 1, 1, 1, 0, 0, 0, 0, 0, 1, 0, 0, 0, 0, 1, 0, 1, 1, 1, 1, 1, 0, 0, 0, 0, 0, 0, 1, 1, 1, 1, 0, 1, 1, 1, 1, 0, 0]\n",
      "Round 4: [0, 0, 0, 1, 0, 0, 0, 0, 1, 0, 1, 1, 1, 1, 1, 0, 0, 0, 0, 0, 0, 1, 1, 1, 1, 0, 1, 1, 1, 1, 0, 0, 0, 1, 0, 1, 0, 0, 0, 1, 0, 0, 0, 1, 1, 1, 0, 0, 1, 0, 1, 0, 0, 1, 0, 1, 1, 1, 0, 0, 0, 1, 1, 0]\n",
      "Round 5: [0, 1, 0, 1, 0, 0, 0, 1, 0, 0, 0, 1, 1, 1, 0, 0, 1, 0, 1, 0, 0, 1, 0, 1, 1, 1, 0, 0, 0, 1, 1, 0, 1, 0, 0, 0, 0, 0, 0, 1, 0, 1, 0, 1, 0, 0, 1, 1, 0, 0, 1, 1, 0, 0, 1, 0, 0, 0, 1, 0, 1, 1, 0, 1]\n",
      "Round 6: [1, 0, 0, 0, 0, 0, 0, 1, 0, 1, 0, 1, 0, 0, 1, 1, 0, 0, 1, 1, 0, 0, 1, 0, 0, 0, 1, 0, 1, 1, 0, 1, 0, 0, 1, 0, 0, 0, 1, 0, 1, 0, 1, 1, 0, 0, 0, 1, 1, 0, 0, 1, 1, 0, 0, 0, 0, 1, 0, 0, 0, 1, 1, 0]\n",
      "Round 7: [0, 0, 1, 0, 0, 0, 1, 0, 1, 0, 1, 1, 0, 0, 0, 1, 1, 0, 0, 1, 1, 0, 0, 0, 0, 1, 0, 0, 0, 1, 1, 0, 1, 0, 1, 0, 0, 1, 0, 0, 1, 0, 1, 1, 1, 0, 1, 0, 0, 1, 1, 0, 0, 0, 0, 0, 1, 1, 1, 0, 1, 0, 0, 0]\n",
      "Round 8: [1, 0, 1, 0, 0, 1, 0, 0, 1, 0, 1, 1, 1, 0, 1, 0, 0, 1, 1, 0, 0, 0, 0, 0, 1, 1, 1, 0, 1, 0, 0, 0, 1, 0, 0, 0, 1, 0, 0, 0, 1, 1, 0, 0, 0, 0, 0, 1, 1, 1, 1, 1, 1, 1, 0, 0, 1, 1, 0, 1, 0, 1, 1, 1]\n",
      "Round 9: [1, 0, 0, 0, 1, 0, 0, 0, 1, 1, 0, 0, 0, 0, 0, 1, 1, 1, 1, 1, 1, 1, 0, 0, 1, 1, 0, 1, 0, 1, 1, 1, 0, 0, 0, 1, 0, 1, 0, 1, 0, 0, 1, 1, 0, 1, 0, 1, 1, 1, 1, 1, 1, 1, 1, 0, 1, 1, 1, 0, 0, 1, 0, 1]\n",
      "Round 10: [0, 0, 0, 1, 0, 1, 0, 1, 0, 0, 1, 1, 0, 1, 0, 1, 1, 1, 1, 1, 1, 1, 1, 0, 1, 1, 1, 0, 0, 1, 0, 1, 1, 0, 1, 0, 1, 1, 0, 1, 0, 1, 1, 1, 1, 1, 1, 0, 0, 0, 1, 0, 1, 1, 1, 1, 1, 1, 0, 1, 0, 0, 1, 1]\n",
      "Round 11: [1, 0, 1, 0, 1, 1, 0, 1, 0, 1, 1, 1, 1, 1, 1, 0, 0, 0, 1, 0, 1, 1, 1, 1, 1, 1, 0, 1, 0, 0, 1, 1, 0, 1, 0, 1, 0, 1, 1, 0, 0, 1, 0, 0, 1, 1, 1, 1, 0, 1, 1, 1, 1, 0, 1, 1, 1, 0, 0, 1, 0, 0, 0, 1]\n",
      "Round 12: [0, 1, 0, 1, 0, 1, 1, 0, 0, 1, 0, 0, 1, 1, 1, 1, 0, 1, 1, 1, 1, 0, 1, 1, 1, 0, 0, 1, 0, 0, 0, 1, 0, 0, 0, 1, 1, 1, 0, 1, 1, 0, 0, 1, 1, 1, 1, 0, 1, 0, 1, 1, 1, 1, 1, 1, 0, 0, 0, 1, 1, 1, 0, 0]\n",
      "Round 13: [0, 0, 0, 1, 1, 1, 0, 1, 1, 0, 0, 1, 1, 1, 1, 0, 1, 0, 1, 1, 1, 1, 1, 1, 0, 0, 0, 1, 1, 1, 0, 0, 0, 1, 0, 1, 1, 0, 1, 1, 1, 1, 0, 0, 1, 0, 1, 1, 1, 0, 0, 0, 1, 0, 1, 0, 1, 1, 0, 1, 1, 0, 0, 0]\n",
      "Round 14: [0, 1, 0, 1, 1, 0, 1, 1, 1, 1, 0, 0, 1, 0, 1, 1, 1, 0, 0, 0, 1, 0, 1, 0, 1, 1, 0, 1, 1, 0, 0, 0, 1, 1, 1, 0, 0, 0, 1, 1, 1, 0, 0, 0, 0, 1, 0, 0, 0, 0, 1, 0, 1, 1, 0, 1, 0, 1, 1, 0, 0, 0, 1, 1]\n",
      "Round 15: [1, 1, 1, 0, 0, 0, 1, 1, 1, 0, 0, 0, 0, 1, 0, 0, 0, 0, 1, 0, 1, 1, 0, 1, 0, 1, 1, 0, 0, 0, 1, 1, 0, 0, 0, 1, 0, 1, 1, 0, 1, 0, 0, 1, 1, 0, 1, 0, 0, 1, 1, 1, 0, 1, 1, 1, 1, 0, 0, 0, 0, 0, 0, 1]\n",
      "Round 16: [0, 0, 0, 1, 0, 1, 1, 0, 1, 0, 0, 1, 1, 0, 1, 0, 0, 1, 1, 1, 0, 1, 1, 1, 1, 0, 0, 0, 0, 0, 0, 1, 0, 1, 0, 1, 1, 0, 0, 0, 0, 1, 0, 1, 1, 1, 1, 1, 1, 1, 0, 0, 0, 1, 1, 0, 0, 1, 1, 0, 1, 1, 1, 0]\n",
      "Final Result: [0, 0, 1, 0, 0, 1, 0, 1, 0, 1, 1, 1, 1, 1, 1, 0, 0, 1, 1, 0, 1, 1, 1, 0, 1, 0, 1, 1, 0, 0, 1, 0, 1, 1, 1, 1, 0, 1, 0, 0, 0, 0, 0, 0, 0, 1, 1, 0, 1, 0, 1, 0, 1, 1, 1, 0, 0, 0, 0, 1, 1, 0, 0, 1]\n",
      "Ciphertext Block 0: [0, 0, 1, 0, 0, 1, 0, 1, 0, 1, 1, 1, 1, 1, 1, 0, 0, 1, 1, 0, 1, 1, 1, 0, 1, 0, 1, 1, 0, 0, 1, 0, 1, 1, 1, 1, 0, 1, 0, 0, 0, 0, 0, 0, 0, 1, 1, 0, 1, 0, 1, 0, 1, 1, 1, 0, 0, 0, 0, 1, 1, 0, 0, 1]\n",
      "////////////////////////////////////////////////////////////////////////////\n",
      "////////////////////////////////////////////////////////////////////////////\n",
      "---------------------->Block 2 executing:\n",
      "intial permuted_text: [1, 1, 1, 0, 1, 0, 0, 1, 1, 1, 1, 1, 1, 0, 1, 1, 1, 1, 0, 1, 1, 0, 0, 0, 1, 0, 0, 0, 0, 0, 0, 1, 1, 0, 1, 0, 0, 1, 1, 1, 0, 0, 1, 1, 0, 1, 1, 1, 1, 1, 0, 0, 0, 1, 0, 1, 0, 0, 1, 1, 1, 0, 0, 0]\n",
      "splitted right: [1, 0, 1, 0, 0, 1, 1, 1, 0, 0, 1, 1, 0, 1, 1, 1, 1, 1, 0, 0, 0, 1, 0, 1, 0, 0, 1, 1, 1, 0, 0, 0]\n",
      "splitted left: [1, 1, 1, 0, 1, 0, 0, 1, 1, 1, 1, 1, 1, 0, 1, 1, 1, 1, 0, 1, 1, 0, 0, 0, 1, 0, 0, 0, 0, 0, 0, 1]\n",
      "Round 1: [1, 0, 1, 0, 0, 1, 1, 1, 0, 0, 1, 1, 0, 1, 1, 1, 1, 1, 0, 0, 0, 1, 0, 1, 0, 0, 1, 1, 1, 0, 0, 0, 1, 1, 1, 1, 1, 1, 1, 1, 1, 0, 1, 0, 0, 0, 1, 0, 1, 0, 0, 1, 1, 1, 0, 1, 0, 0, 1, 0, 0, 1, 0, 0]\n",
      "Round 2: [1, 1, 1, 1, 1, 1, 1, 1, 1, 0, 1, 0, 0, 0, 1, 0, 1, 0, 0, 1, 1, 1, 0, 1, 0, 0, 1, 0, 0, 1, 0, 0, 0, 0, 0, 1, 1, 0, 0, 1, 1, 0, 0, 1, 0, 1, 1, 1, 0, 1, 0, 0, 0, 1, 1, 1, 0, 0, 0, 0, 1, 0, 1, 1]\n",
      "Round 3: [0, 0, 0, 1, 1, 0, 0, 1, 1, 0, 0, 1, 0, 1, 1, 1, 0, 1, 0, 0, 0, 1, 1, 1, 0, 0, 0, 0, 1, 0, 1, 1, 0, 0, 0, 0, 0, 1, 1, 1, 1, 1, 0, 1, 1, 1, 0, 0, 0, 1, 1, 0, 0, 0, 1, 1, 0, 0, 0, 0, 0, 1, 1, 0]\n",
      "Round 4: [0, 0, 0, 0, 0, 1, 1, 1, 1, 1, 0, 1, 1, 1, 0, 0, 0, 1, 1, 0, 0, 0, 1, 1, 0, 0, 0, 0, 0, 1, 1, 0, 1, 0, 1, 1, 1, 0, 0, 1, 0, 0, 0, 1, 0, 1, 1, 1, 1, 1, 1, 1, 0, 1, 1, 1, 1, 1, 0, 0, 1, 0, 1, 1]\n",
      "Round 5: [1, 0, 1, 1, 1, 0, 0, 1, 0, 0, 0, 1, 0, 1, 1, 1, 1, 1, 1, 1, 0, 1, 1, 1, 1, 1, 0, 0, 1, 0, 1, 1, 0, 0, 0, 1, 0, 0, 0, 0, 1, 0, 0, 0, 1, 0, 1, 0, 0, 0, 0, 0, 0, 1, 1, 1, 1, 0, 0, 0, 1, 0, 0, 0]\n",
      "Round 6: [0, 0, 0, 1, 0, 0, 0, 0, 1, 0, 0, 0, 1, 0, 1, 0, 0, 0, 0, 0, 0, 1, 1, 1, 1, 0, 0, 0, 1, 0, 0, 0, 0, 0, 0, 1, 0, 1, 1, 0, 1, 0, 1, 1, 1, 0, 1, 1, 1, 1, 0, 0, 1, 0, 0, 0, 0, 0, 1, 1, 0, 0, 0, 0]\n",
      "Round 7: [0, 0, 0, 1, 0, 1, 1, 0, 1, 0, 1, 1, 1, 0, 1, 1, 1, 1, 0, 0, 1, 0, 0, 0, 0, 0, 1, 1, 0, 0, 0, 0, 0, 0, 1, 1, 1, 0, 1, 0, 0, 1, 0, 0, 0, 1, 1, 0, 0, 1, 0, 1, 1, 0, 0, 1, 0, 0, 0, 0, 0, 0, 1, 0]\n",
      "Round 8: [0, 0, 1, 1, 1, 0, 1, 0, 0, 1, 0, 0, 0, 1, 1, 0, 0, 1, 0, 1, 1, 0, 0, 1, 0, 0, 0, 0, 0, 0, 1, 0, 1, 0, 1, 0, 1, 0, 1, 1, 0, 0, 1, 1, 0, 0, 1, 0, 1, 0, 0, 0, 1, 0, 1, 1, 0, 0, 0, 0, 1, 1, 0, 0]\n",
      "Round 9: [1, 0, 1, 0, 1, 0, 1, 1, 0, 0, 1, 1, 0, 0, 1, 0, 1, 0, 0, 0, 1, 0, 1, 1, 0, 0, 0, 0, 1, 1, 0, 0, 1, 0, 1, 0, 0, 1, 1, 0, 1, 0, 1, 1, 1, 0, 0, 1, 1, 0, 1, 0, 0, 1, 1, 0, 0, 1, 0, 1, 1, 1, 1, 0]\n",
      "Round 10: [1, 0, 1, 0, 0, 1, 1, 0, 1, 0, 1, 1, 1, 0, 0, 1, 1, 0, 1, 0, 0, 1, 1, 0, 0, 1, 0, 1, 1, 1, 1, 0, 1, 0, 0, 0, 0, 0, 0, 0, 0, 0, 1, 1, 1, 0, 1, 0, 1, 0, 0, 0, 0, 0, 1, 1, 1, 0, 0, 1, 1, 1, 0, 0]\n",
      "Round 11: [1, 0, 0, 0, 0, 0, 0, 0, 0, 0, 1, 1, 1, 0, 1, 0, 1, 0, 0, 0, 0, 0, 1, 1, 1, 0, 0, 1, 1, 1, 0, 0, 1, 0, 1, 1, 1, 0, 0, 0, 1, 1, 1, 0, 1, 0, 1, 0, 0, 1, 0, 0, 0, 1, 0, 1, 1, 0, 1, 1, 0, 1, 0, 1]\n",
      "Round 12: [1, 0, 1, 1, 1, 0, 0, 0, 1, 1, 1, 0, 1, 0, 1, 0, 0, 1, 0, 0, 0, 1, 0, 1, 1, 0, 1, 1, 0, 1, 0, 1, 0, 1, 0, 1, 1, 0, 1, 1, 0, 0, 0, 1, 1, 0, 1, 1, 1, 1, 1, 1, 0, 1, 1, 1, 1, 1, 0, 0, 1, 0, 1, 1]\n",
      "Round 13: [0, 1, 0, 1, 1, 0, 1, 1, 0, 0, 0, 1, 1, 0, 1, 1, 1, 1, 1, 1, 0, 1, 1, 1, 1, 1, 0, 0, 1, 0, 1, 1, 1, 0, 1, 0, 0, 0, 1, 1, 1, 0, 1, 1, 0, 1, 0, 1, 0, 1, 1, 1, 1, 0, 0, 0, 0, 0, 0, 1, 1, 1, 0, 1]\n",
      "Round 14: [1, 0, 1, 0, 0, 0, 1, 1, 1, 0, 1, 1, 0, 1, 0, 1, 0, 1, 1, 1, 1, 0, 0, 0, 0, 0, 0, 1, 1, 1, 0, 1, 0, 0, 1, 1, 1, 0, 0, 1, 1, 1, 1, 0, 1, 0, 0, 1, 0, 0, 1, 0, 0, 0, 0, 0, 0, 0, 0, 1, 1, 1, 0, 1]\n",
      "Round 15: [0, 0, 1, 1, 1, 0, 0, 1, 1, 1, 1, 0, 1, 0, 0, 1, 0, 0, 1, 0, 0, 0, 0, 0, 0, 0, 0, 1, 1, 1, 0, 1, 0, 1, 1, 1, 1, 0, 0, 1, 0, 0, 1, 0, 1, 0, 0, 1, 1, 0, 0, 0, 0, 1, 0, 1, 1, 0, 1, 1, 0, 1, 0, 1]\n",
      "Round 16: [0, 1, 1, 1, 1, 0, 0, 1, 0, 0, 1, 0, 1, 0, 0, 1, 1, 0, 0, 0, 0, 1, 0, 1, 1, 0, 1, 1, 0, 1, 0, 1, 1, 0, 1, 0, 0, 1, 1, 0, 0, 0, 0, 0, 1, 1, 1, 1, 0, 1, 0, 0, 1, 1, 1, 1, 0, 0, 0, 1, 1, 0, 0, 0]\n",
      "Final Result: [0, 1, 1, 1, 1, 1, 0, 1, 1, 0, 1, 0, 1, 0, 0, 0, 1, 0, 1, 0, 1, 1, 0, 1, 0, 1, 1, 1, 1, 0, 1, 0, 0, 1, 0, 0, 0, 0, 1, 1, 1, 1, 0, 1, 0, 0, 0, 1, 0, 1, 0, 0, 1, 0, 0, 0, 1, 0, 0, 0, 0, 1, 0, 1]\n",
      "Ciphertext Block 1: [0, 1, 1, 1, 1, 1, 0, 1, 1, 0, 1, 0, 1, 0, 0, 0, 1, 0, 1, 0, 1, 1, 0, 1, 0, 1, 1, 1, 1, 0, 1, 0, 0, 1, 0, 0, 0, 0, 1, 1, 1, 1, 0, 1, 0, 0, 0, 1, 0, 1, 0, 0, 1, 0, 0, 0, 1, 0, 0, 0, 0, 1, 0, 1]\n",
      "////////////////////////////////////////////////////////////////////////////\n",
      "////////////////////////////////////////////////////////////////////////////\n",
      "---------------------->Block 3 executing:\n",
      "intial permuted_text: [1, 0, 0, 0, 0, 1, 1, 0, 0, 1, 1, 0, 1, 0, 0, 1, 0, 1, 0, 1, 0, 1, 1, 1, 1, 0, 1, 1, 0, 1, 0, 1, 0, 1, 0, 1, 1, 0, 0, 1, 0, 0, 0, 1, 0, 1, 1, 1, 1, 0, 1, 0, 0, 1, 1, 0, 0, 1, 1, 0, 0, 1, 1, 1]\n",
      "splitted right: [0, 1, 0, 1, 1, 0, 0, 1, 0, 0, 0, 1, 0, 1, 1, 1, 1, 0, 1, 0, 0, 1, 1, 0, 0, 1, 1, 0, 0, 1, 1, 1]\n",
      "splitted left: [1, 0, 0, 0, 0, 1, 1, 0, 0, 1, 1, 0, 1, 0, 0, 1, 0, 1, 0, 1, 0, 1, 1, 1, 1, 0, 1, 1, 0, 1, 0, 1]\n",
      "Round 1: [0, 1, 0, 1, 1, 0, 0, 1, 0, 0, 0, 1, 0, 1, 1, 1, 1, 0, 1, 0, 0, 1, 1, 0, 0, 1, 1, 0, 0, 1, 1, 1, 1, 0, 1, 0, 1, 0, 1, 1, 0, 0, 1, 0, 1, 0, 1, 1, 0, 0, 0, 1, 0, 0, 1, 1, 0, 0, 0, 1, 0, 0, 0, 1]\n",
      "Round 2: [1, 0, 1, 0, 1, 0, 1, 1, 0, 0, 1, 0, 1, 0, 1, 1, 0, 0, 0, 1, 0, 0, 1, 1, 0, 0, 0, 1, 0, 0, 0, 1, 0, 1, 1, 0, 0, 1, 1, 0, 0, 0, 1, 0, 1, 1, 1, 1, 0, 1, 1, 0, 1, 0, 1, 1, 0, 0, 0, 1, 1, 0, 1, 0]\n",
      "Round 3: [0, 1, 1, 0, 0, 1, 1, 0, 0, 0, 1, 0, 1, 1, 1, 1, 0, 1, 1, 0, 1, 0, 1, 1, 0, 0, 0, 1, 1, 0, 1, 0, 0, 1, 1, 1, 1, 1, 1, 1, 1, 1, 0, 0, 1, 1, 0, 1, 0, 0, 1, 0, 0, 0, 1, 1, 1, 1, 0, 0, 1, 0, 1, 0]\n",
      "Round 4: [0, 1, 1, 1, 1, 1, 1, 1, 1, 1, 0, 0, 1, 1, 0, 1, 0, 0, 1, 0, 0, 0, 1, 1, 1, 1, 0, 0, 1, 0, 1, 0, 1, 1, 1, 1, 0, 0, 0, 0, 1, 1, 1, 1, 1, 0, 1, 1, 0, 1, 0, 0, 0, 1, 1, 1, 1, 0, 0, 0, 0, 1, 0, 0]\n",
      "Round 5: [1, 1, 1, 1, 0, 0, 0, 0, 1, 1, 1, 1, 1, 0, 1, 1, 0, 1, 0, 0, 0, 1, 1, 1, 1, 0, 0, 0, 0, 1, 0, 0, 1, 1, 0, 1, 0, 0, 0, 1, 1, 0, 1, 1, 0, 0, 0, 1, 0, 0, 0, 1, 0, 0, 0, 1, 1, 0, 1, 1, 0, 1, 1, 1]\n",
      "Round 6: [1, 1, 0, 1, 0, 0, 0, 1, 1, 0, 1, 1, 0, 0, 0, 1, 0, 0, 0, 1, 0, 0, 0, 1, 1, 0, 1, 1, 0, 1, 1, 1, 0, 0, 0, 0, 0, 0, 1, 1, 1, 0, 0, 1, 1, 0, 0, 1, 1, 1, 0, 0, 1, 0, 0, 0, 1, 1, 0, 1, 0, 0, 1, 1]\n",
      "Round 7: [0, 0, 0, 0, 0, 0, 1, 1, 1, 0, 0, 1, 1, 0, 0, 1, 1, 1, 0, 0, 1, 0, 0, 0, 1, 1, 0, 1, 0, 0, 1, 1, 1, 0, 1, 0, 1, 1, 0, 1, 1, 0, 0, 1, 0, 1, 0, 1, 0, 1, 0, 1, 0, 1, 1, 0, 0, 0, 0, 0, 0, 1, 0, 0]\n",
      "Round 8: [1, 0, 1, 0, 1, 1, 0, 1, 1, 0, 0, 1, 0, 1, 0, 1, 0, 1, 0, 1, 0, 1, 1, 0, 0, 0, 0, 0, 0, 1, 0, 0, 0, 0, 1, 0, 1, 0, 0, 1, 0, 1, 1, 0, 1, 0, 0, 1, 0, 1, 0, 1, 1, 0, 1, 0, 0, 0, 1, 0, 1, 0, 1, 1]\n",
      "Round 9: [0, 0, 1, 0, 1, 0, 0, 1, 0, 1, 1, 0, 1, 0, 0, 1, 0, 1, 0, 1, 1, 0, 1, 0, 0, 0, 1, 0, 1, 0, 1, 1, 0, 1, 1, 0, 0, 0, 1, 0, 0, 0, 0, 1, 0, 0, 1, 0, 1, 0, 0, 0, 1, 0, 0, 0, 1, 0, 1, 1, 1, 1, 1, 0]\n",
      "Round 10: [0, 1, 1, 0, 0, 0, 1, 0, 0, 0, 0, 1, 0, 0, 1, 0, 1, 0, 0, 0, 1, 0, 0, 0, 1, 0, 1, 1, 1, 1, 1, 0, 1, 0, 1, 1, 1, 0, 1, 1, 1, 0, 0, 0, 0, 1, 0, 0, 0, 1, 0, 0, 1, 1, 1, 1, 0, 1, 0, 1, 1, 1, 0, 0]\n",
      "Round 11: [1, 0, 1, 1, 1, 0, 1, 1, 1, 0, 0, 0, 0, 1, 0, 0, 0, 1, 0, 0, 1, 1, 1, 1, 0, 1, 0, 1, 1, 1, 0, 0, 0, 0, 1, 1, 1, 1, 1, 1, 0, 1, 0, 1, 1, 1, 0, 1, 0, 0, 0, 1, 1, 1, 0, 1, 0, 1, 0, 0, 0, 1, 1, 0]\n",
      "Round 12: [0, 0, 1, 1, 1, 1, 1, 1, 0, 1, 0, 1, 1, 1, 0, 1, 0, 0, 0, 1, 1, 1, 0, 1, 0, 1, 0, 0, 0, 1, 1, 0, 1, 1, 0, 0, 1, 1, 0, 1, 0, 0, 1, 0, 1, 0, 0, 1, 0, 0, 0, 0, 1, 0, 0, 1, 0, 0, 0, 0, 1, 0, 0, 0]\n",
      "Round 13: [1, 1, 0, 0, 1, 1, 0, 1, 0, 0, 1, 0, 1, 0, 0, 1, 0, 0, 0, 0, 1, 0, 0, 1, 0, 0, 0, 0, 1, 0, 0, 0, 1, 1, 1, 1, 0, 0, 1, 0, 1, 1, 1, 0, 0, 0, 0, 1, 0, 0, 0, 0, 1, 0, 1, 0, 0, 1, 0, 1, 0, 0, 0, 0]\n",
      "Round 14: [1, 1, 1, 1, 0, 0, 1, 0, 1, 1, 1, 0, 0, 0, 0, 1, 0, 0, 0, 0, 1, 0, 1, 0, 0, 1, 0, 1, 0, 0, 0, 0, 1, 1, 0, 1, 0, 0, 0, 0, 0, 0, 0, 1, 1, 1, 1, 1, 0, 1, 0, 1, 1, 1, 1, 1, 0, 1, 0, 1, 1, 1, 0, 0]\n",
      "Round 15: [1, 1, 0, 1, 0, 0, 0, 0, 0, 0, 0, 1, 1, 1, 1, 1, 0, 1, 0, 1, 1, 1, 1, 1, 0, 1, 0, 1, 1, 1, 0, 0, 0, 0, 1, 1, 1, 1, 1, 1, 1, 1, 1, 0, 0, 1, 1, 0, 0, 1, 1, 0, 1, 1, 1, 0, 1, 1, 1, 0, 1, 1, 1, 0]\n",
      "Round 16: [0, 0, 1, 1, 1, 1, 1, 1, 1, 1, 1, 0, 0, 1, 1, 0, 0, 1, 1, 0, 1, 1, 1, 0, 1, 1, 1, 0, 1, 1, 1, 0, 0, 1, 1, 0, 1, 0, 1, 1, 1, 0, 0, 0, 1, 0, 0, 0, 0, 1, 1, 1, 1, 0, 0, 1, 0, 1, 0, 0, 1, 0, 0, 1]\n",
      "Final Result: [1, 1, 0, 0, 1, 0, 1, 0, 1, 1, 0, 1, 0, 1, 0, 1, 0, 1, 0, 1, 0, 1, 0, 1, 1, 1, 1, 0, 1, 1, 1, 1, 0, 1, 0, 0, 1, 0, 0, 0, 1, 1, 0, 1, 1, 1, 0, 1, 1, 0, 0, 1, 1, 1, 1, 1, 0, 0, 1, 1, 0, 0, 0, 1]\n",
      "Ciphertext Block 2: [1, 1, 0, 0, 1, 0, 1, 0, 1, 1, 0, 1, 0, 1, 0, 1, 0, 1, 0, 1, 0, 1, 0, 1, 1, 1, 1, 0, 1, 1, 1, 1, 0, 1, 0, 0, 1, 0, 0, 0, 1, 1, 0, 1, 1, 1, 0, 1, 1, 0, 0, 1, 1, 1, 1, 1, 0, 0, 1, 1, 0, 0, 0, 1]\n",
      "////////////////////////////////////////////////////////////////////////////\n",
      "Final Ciphertext: [0, 0, 1, 0, 0, 1, 0, 1, 0, 1, 1, 1, 1, 1, 1, 0, 0, 1, 1, 0, 1, 1, 1, 0, 1, 0, 1, 1, 0, 0, 1, 0, 1, 1, 1, 1, 0, 1, 0, 0, 0, 0, 0, 0, 0, 1, 1, 0, 1, 0, 1, 0, 1, 1, 1, 0, 0, 0, 0, 1, 1, 0, 0, 1, 0, 1, 1, 1, 1, 1, 0, 1, 1, 0, 1, 0, 1, 0, 0, 0, 1, 0, 1, 0, 1, 1, 0, 1, 0, 1, 1, 1, 1, 0, 1, 0, 0, 1, 0, 0, 0, 0, 1, 1, 1, 1, 0, 1, 0, 0, 0, 1, 0, 1, 0, 0, 1, 0, 0, 0, 1, 0, 0, 0, 0, 1, 0, 1, 1, 1, 0, 0, 1, 0, 1, 0, 1, 1, 0, 1, 0, 1, 0, 1, 0, 1, 0, 1, 0, 1, 0, 1, 1, 1, 1, 0, 1, 1, 1, 1, 0, 1, 0, 0, 1, 0, 0, 0, 1, 1, 0, 1, 1, 1, 0, 1, 1, 0, 0, 1, 1, 1, 1, 1, 0, 0, 1, 1, 0, 0, 0, 1]\n",
      "Ciphertext: LWnWKGSZVMRzCBHDUFUFHNDX\n"
     ]
    }
   ],
   "source": [
    "Plain_text = \"joeisgoingcrazy\"\n",
    "ciphertext = CBC(Plain_text)\n",
    "print(\"Ciphertext:\", ciphertext)\n",
    "print(\"hi\")\n"
   ]
  }
 ],
 "metadata": {
  "colab": {
   "provenance": []
  },
  "kernelspec": {
   "display_name": "Python 3",
   "language": "python",
   "name": "python3"
  },
  "language_info": {
   "codemirror_mode": {
    "name": "ipython",
    "version": 3
   },
   "file_extension": ".py",
   "mimetype": "text/x-python",
   "name": "python",
   "nbconvert_exporter": "python",
   "pygments_lexer": "ipython3",
   "version": "3.9.13"
  }
 },
 "nbformat": 4,
 "nbformat_minor": 4
}
